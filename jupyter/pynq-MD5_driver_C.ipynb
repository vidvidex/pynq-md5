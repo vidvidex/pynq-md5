{
 "cells": [
  {
   "cell_type": "markdown",
   "id": "432bda99-cd0f-405d-aebd-14c2fdf8c811",
   "metadata": {
    "extensions": {
     "jupyter_dashboards": {
      "activeView": "grid_default",
      "views": {
       "grid_default": {
        "col": null,
        "height": 2,
        "hidden": true,
        "locked": true,
        "row": null,
        "width": 2
       }
      }
     }
    }
   },
   "source": [
    "# PYNQ MD5 driver v C"
   ]
  },
  {
   "cell_type": "code",
   "execution_count": 1,
   "id": "796004de-a5e1-4d31-8e19-8adef15ff0f1",
   "metadata": {
    "extensions": {
     "jupyter_dashboards": {
      "activeView": "grid_default",
      "views": {
       "grid_default": {
        "col": null,
        "height": 2,
        "hidden": true,
        "locked": true,
        "row": null,
        "width": 2
       }
      }
     }
    }
   },
   "outputs": [],
   "source": [
    "import numpy as np\n",
    "from pynq import allocate, Overlay, Clocks\n",
    "from cffi import FFI\n",
    "import hashlib\n",
    "\n",
    "ffi = FFI()\n",
    "\n",
    "with open(\"preprocess.c\") as f:\n",
    "    c_code = f.read()\n",
    "\n",
    "ffi.cdef(\"\"\"\n",
    "    void preprocess(unsigned char * buffer_out, unsigned char **inputs, int *sizes);\n",
    "\"\"\")\n",
    "C = ffi.verify(c_code)\n",
    "\n",
    "# Define custom types\n",
    "uint512 = np.dtype((np.uint8, 64))\n",
    "uint128 = np.dtype((np.uint8, 16))\n",
    "\n",
    "def print_uint512(arr):\n",
    "    for i in range(len(arr)):\n",
    "        print(f'uint512[{i}] = ', end='')\n",
    "        for part in arr[i]:\n",
    "            print(f'{part:02x}', end='')\n",
    "        print()\n",
    "        \n",
    "def print_uint128(arr):\n",
    "    for i in range(len(arr)):\n",
    "        print(f'uint128[{i}] = ', end='')\n",
    "        for part in arr[i]:\n",
    "            print(f'{part:02x}', end='')\n",
    "        print()\n",
    "        \n",
    "class MD5Overlay(Overlay):\n",
    "    def __init__(self, bitfile, **kwargs):\n",
    "        super().__init__(bitfile, **kwargs)\n",
    "    \n",
    "    \n",
    "    def md5(self, data_list):\n",
    "                \n",
    "        # Pripravi pointerje na vhode in na velikosti teh vhodov (omejitev: vsi morajo biti enako veliki)\n",
    "        data_list_ptrs = ffi.new(\"unsigned char*[]\", [ffi.from_buffer(l) for l in data_list])\n",
    "        sizes = [len(data_list[0])]*64\n",
    "        sizes_ptr = ffi.new(\"int[]\", sizes)\n",
    "        \n",
    "        # Pripravi buffer v katerega bo C zapisal procesirane podatke\n",
    "        size = (((sizes[0]+9) + 63) // 64) * 64 * 64\n",
    "        buffer_out = ffi.new(\"unsigned char[]\", size)\n",
    "        \n",
    "        C.preprocess(buffer_out, data_list_ptrs, sizes_ptr)\n",
    "        interleaved = np.frombuffer(ffi.buffer(buffer_out, size), dtype=uint512)\n",
    "        \n",
    "        input_buffer = allocate(shape=(np.shape(interleaved)[0],), dtype=uint512)\n",
    "        np.copyto(input_buffer, interleaved)\n",
    "                \n",
    "        output_buffer = allocate(shape=(64,), dtype=uint128)\n",
    "        dma = self.axi_dma_0\n",
    "        dma.sendchannel.transfer(input_buffer)\n",
    "        dma.recvchannel.transfer(output_buffer)\n",
    "        dma.sendchannel.wait()\n",
    "        dma.recvchannel.wait()\n",
    "        \n",
    "        return output_buffer"
   ]
  },
  {
   "cell_type": "code",
   "execution_count": 2,
   "id": "f776b467-25db-475b-94d2-a53fff456322",
   "metadata": {},
   "outputs": [
    {
     "data": {
      "application/javascript": [
       "\n",
       "try {\n",
       "require(['notebook/js/codecell'], function(codecell) {\n",
       "  codecell.CodeCell.options_default.highlight_modes[\n",
       "      'magic_text/x-csrc'] = {'reg':[/^%%microblaze/]};\n",
       "  Jupyter.notebook.events.one('kernel_ready.Kernel', function(){\n",
       "      Jupyter.notebook.get_cells().map(function(cell){\n",
       "          if (cell.cell_type == 'code'){ cell.auto_highlight(); } }) ;\n",
       "  });\n",
       "});\n",
       "} catch (e) {};\n"
      ]
     },
     "metadata": {},
     "output_type": "display_data"
    },
    {
     "data": {
      "application/javascript": [
       "\n",
       "try {\n",
       "require(['notebook/js/codecell'], function(codecell) {\n",
       "  codecell.CodeCell.options_default.highlight_modes[\n",
       "      'magic_text/x-csrc'] = {'reg':[/^%%pybind11/]};\n",
       "  Jupyter.notebook.events.one('kernel_ready.Kernel', function(){\n",
       "      Jupyter.notebook.get_cells().map(function(cell){\n",
       "          if (cell.cell_type == 'code'){ cell.auto_highlight(); } }) ;\n",
       "  });\n",
       "});\n",
       "} catch (e) {};\n"
      ]
     },
     "metadata": {},
     "output_type": "display_data"
    },
    {
     "name": "stderr",
     "output_type": "stream",
     "text": [
      "/usr/local/share/pynq-venv/lib/python3.10/site-packages/pynq/ps.py:434: UserWarning: Setting frequency to the closest possible value 98.8879MHz.\n",
      "  warnings.warn(\n",
      "/usr/local/share/pynq-venv/lib/python3.10/site-packages/pynq/ps.py:434: UserWarning: Setting frequency to the closest possible value 247.21975MHz.\n",
      "  warnings.warn(\n"
     ]
    }
   ],
   "source": [
    "overlay = MD5Overlay('/home/xilinx/pynq/overlays/pynq-MD5_2/pynq-MD5_2.bit')\n",
    "Clocks.fclk0_mhz = 250\n",
    "\n",
    "data_list = [bytearray([i+97] * 102400) for i in range(64)]"
   ]
  },
  {
   "cell_type": "code",
   "execution_count": 3,
   "id": "b074e569-b5ae-401d-a430-46ac415743c6",
   "metadata": {},
   "outputs": [
    {
     "name": "stdout",
     "output_type": "stream",
     "text": [
      "29.9 ms ± 69.9 µs per loop (mean ± std. dev. of 7 runs, 10 loops each)\n"
     ]
    }
   ],
   "source": [
    "%%timeit\n",
    "\n",
    "overlay.md5(data_list)\n",
    "#print_uint128(hash)"
   ]
  },
  {
   "cell_type": "code",
   "execution_count": 4,
   "id": "060ad589-f3dd-43eb-bc18-529355e4b4ba",
   "metadata": {},
   "outputs": [
    {
     "name": "stdout",
     "output_type": "stream",
     "text": [
      "40.2 ms ± 52.6 µs per loop (mean ± std. dev. of 7 runs, 10 loops each)\n"
     ]
    }
   ],
   "source": [
    "%%timeit\n",
    "\n",
    "for data in data_list:\n",
    "    hashlib.md5(data)"
   ]
  },
  {
   "cell_type": "code",
   "execution_count": null,
   "id": "a4b7c3d5-e841-47b9-8799-ffb0d6a4aa81",
   "metadata": {},
   "outputs": [],
   "source": []
  }
 ],
 "metadata": {
  "extensions": {
   "jupyter_dashboards": {
    "activeView": "grid_default",
    "version": 1,
    "views": {
     "grid_default": {
      "cellMargin": 2,
      "defaultCellHeight": 40,
      "maxColumns": 12,
      "name": "grid",
      "type": "grid"
     }
    }
   }
  },
  "kernelspec": {
   "display_name": "Python 3 (ipykernel)",
   "language": "python",
   "name": "python3"
  },
  "language_info": {
   "codemirror_mode": {
    "name": "ipython",
    "version": 3
   },
   "file_extension": ".py",
   "mimetype": "text/x-python",
   "name": "python",
   "nbconvert_exporter": "python",
   "pygments_lexer": "ipython3",
   "version": "3.10.4"
  }
 },
 "nbformat": 4,
 "nbformat_minor": 5
}
